{
 "cells": [
  {
   "cell_type": "code",
   "execution_count": 5,
   "metadata": {},
   "outputs": [
    {
     "name": "stdout",
     "output_type": "stream",
     "text": [
      "2025-03-17 21:28:39,229 INFO sqlalchemy.engine.Engine SELECT CAST(SERVERPROPERTY('ProductVersion') AS VARCHAR)\n",
      "2025-03-17 21:28:39,230 INFO sqlalchemy.engine.Engine [raw sql] ()\n",
      "2025-03-17 21:28:39,391 INFO sqlalchemy.engine.Engine SELECT schema_name()\n",
      "2025-03-17 21:28:39,392 INFO sqlalchemy.engine.Engine [generated in 0.00084s] ()\n",
      "2025-03-17 21:28:39,874 INFO sqlalchemy.engine.Engine SELECT CAST('test max support' AS NVARCHAR(max))\n",
      "2025-03-17 21:28:39,875 INFO sqlalchemy.engine.Engine [generated in 0.00081s] ()\n",
      "2025-03-17 21:28:40,035 INFO sqlalchemy.engine.Engine SELECT 1 FROM fn_listextendedproperty(default, default, default, default, default, default, default)\n",
      "2025-03-17 21:28:40,036 INFO sqlalchemy.engine.Engine [generated in 0.00143s] ()\n",
      "2025-03-17 21:28:40,390 INFO sqlalchemy.engine.Engine BEGIN (implicit)\n",
      "2025-03-17 21:28:40,391 INFO sqlalchemy.engine.Engine SELECT TABLE_NAME FROM INFORMATION_SCHEMA.TABLES WHERE TABLE_NAME = 'Users'\n",
      "2025-03-17 21:28:40,391 INFO sqlalchemy.engine.Engine [generated in 0.00051s] ()\n",
      "✅ La tabla 'users' existe en la BD.\n",
      "2025-03-17 21:28:40,562 INFO sqlalchemy.engine.Engine ROLLBACK\n"
     ]
    }
   ],
   "source": [
    "from sqlalchemy import create_engine, text\n",
    "from sqlalchemy.orm import sessionmaker\n",
    "import os\n",
    "import urllib.parse\n",
    "\n",
    "# Configuración de la conexión a Azure SQL Database desde variables de entorno\n",
    "server = os.getenv(\"SQL_SERVER\", \"server-android.database.windows.net\")\n",
    "database = os.getenv(\"SQL_DATABASE\", \"db_android\")\n",
    "username = os.getenv(\"SQL_USERNAME\", \"sqlserver\")\n",
    "password = os.getenv(\"SQL_PASSWORD\", \"@sql123456\")  # Valor por defecto no recomendado en producción\n",
    "\n",
    "# Codificar la contraseña para la URL\n",
    "encoded_password = urllib.parse.quote_plus(password)\n",
    "\n",
    "# URL de conexión para SQLAlchemy con formato específico para Azure SQL\n",
    "DB_URL = f\"mssql+pyodbc://{username}:{encoded_password}@{server}/{database}?driver=ODBC+Driver+18+for+SQL+Server&Encrypt=yes&TrustServerCertificate=no&Connection Timeout=30\"\n",
    "# Crear la conexión\n",
    "engine = create_engine(DB_URL, echo=True)\n",
    "\n",
    "# Crear sesión\n",
    "SessionLocal = sessionmaker(autocommit=False, autoflush=False, bind=engine)\n",
    "db = SessionLocal()\n",
    "\n",
    "# Verificar si la tabla \"users\" existe\n",
    "result = db.execute(text(\"SELECT TABLE_NAME FROM INFORMATION_SCHEMA.TABLES WHERE TABLE_NAME = 'Users'\"))\n",
    "table_exists = result.fetchone()\n",
    "\n",
    "if table_exists:\n",
    "    print(\"✅ La tabla 'users' existe en la BD.\")\n",
    "else:\n",
    "    print(\"❌ La tabla 'users' NO existe en la BD.\")\n",
    "\n",
    "# Cerrar sesión\n",
    "db.close()\n"
   ]
  }
 ],
 "metadata": {
  "kernelspec": {
   "display_name": ".venv",
   "language": "python",
   "name": "python3"
  },
  "language_info": {
   "codemirror_mode": {
    "name": "ipython",
    "version": 3
   },
   "file_extension": ".py",
   "mimetype": "text/x-python",
   "name": "python",
   "nbconvert_exporter": "python",
   "pygments_lexer": "ipython3",
   "version": "3.11.9"
  }
 },
 "nbformat": 4,
 "nbformat_minor": 2
}
