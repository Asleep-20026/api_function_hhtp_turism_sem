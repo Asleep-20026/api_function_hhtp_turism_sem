{
 "cells": [
  {
   "cell_type": "code",
   "execution_count": 5,
   "metadata": {},
   "outputs": [
    {
     "name": "stdout",
     "output_type": "stream",
     "text": [
      "Requirement already satisfied: pyodbc in c:\\workspace-main\\funct_sem_api\\.venv\\lib\\site-packages (5.2.0)\n",
      "Note: you may need to restart the kernel to use updated packages.\n"
     ]
    },
    {
     "name": "stderr",
     "output_type": "stream",
     "text": [
      "\n",
      "[notice] A new release of pip is available: 24.0 -> 25.0.1\n",
      "[notice] To update, run: python.exe -m pip install --upgrade pip\n"
     ]
    },
    {
     "name": "stdout",
     "output_type": "stream",
     "text": [
      "Requirement already satisfied: sqlalchemy in c:\\workspace-main\\funct_sem_api\\.venv\\lib\\site-packages (2.0.39)\n",
      "Requirement already satisfied: greenlet!=0.4.17 in c:\\workspace-main\\funct_sem_api\\.venv\\lib\\site-packages (from sqlalchemy) (3.1.1)\n",
      "Requirement already satisfied: typing-extensions>=4.6.0 in c:\\workspace-main\\funct_sem_api\\.venv\\lib\\site-packages (from sqlalchemy) (4.12.2)\n",
      "Note: you may need to restart the kernel to use updated packages.\n"
     ]
    },
    {
     "name": "stderr",
     "output_type": "stream",
     "text": [
      "\n",
      "[notice] A new release of pip is available: 24.0 -> 25.0.1\n",
      "[notice] To update, run: python.exe -m pip install --upgrade pip\n"
     ]
    }
   ],
   "source": [
    "%pip install pyodbc\n",
    "%pip install sqlalchemy"
   ]
  },
  {
   "cell_type": "code",
   "execution_count": 1,
   "metadata": {},
   "outputs": [
    {
     "name": "stdout",
     "output_type": "stream",
     "text": [
      "2025-03-24 21:13:18,172 INFO sqlalchemy.engine.Engine SELECT CAST(SERVERPROPERTY('ProductVersion') AS VARCHAR)\n",
      "2025-03-24 21:13:18,173 INFO sqlalchemy.engine.Engine [raw sql] ()\n",
      "2025-03-24 21:13:18,317 INFO sqlalchemy.engine.Engine SELECT schema_name()\n",
      "2025-03-24 21:13:18,318 INFO sqlalchemy.engine.Engine [generated in 0.00090s] ()\n",
      "2025-03-24 21:13:18,753 INFO sqlalchemy.engine.Engine SELECT CAST('test max support' AS NVARCHAR(max))\n",
      "2025-03-24 21:13:18,754 INFO sqlalchemy.engine.Engine [generated in 0.00071s] ()\n",
      "2025-03-24 21:13:18,897 INFO sqlalchemy.engine.Engine SELECT 1 FROM fn_listextendedproperty(default, default, default, default, default, default, default)\n",
      "2025-03-24 21:13:18,898 INFO sqlalchemy.engine.Engine [generated in 0.00085s] ()\n",
      "2025-03-24 21:13:19,225 INFO sqlalchemy.engine.Engine BEGIN (implicit)\n",
      "2025-03-24 21:13:19,226 INFO sqlalchemy.engine.Engine SELECT TABLE_NAME FROM INFORMATION_SCHEMA.TABLES WHERE TABLE_NAME = 'Users'\n",
      "2025-03-24 21:13:19,227 INFO sqlalchemy.engine.Engine [generated in 0.00070s] ()\n",
      "❌ La tabla 'users' NO existe en la BD.\n",
      "2025-03-24 21:13:19,388 INFO sqlalchemy.engine.Engine ROLLBACK\n"
     ]
    }
   ],
   "source": [
    "from sqlalchemy import create_engine, text\n",
    "from sqlalchemy.orm import sessionmaker\n",
    "import os\n",
    "import urllib.parse\n",
    "\n",
    "# Configuración de la conexión a Azure SQL Database desde variables de entorno\n",
    "server = os.getenv(\"SQL_SERVER\")\n",
    "database = os.getenv(\"SQL_DATABASE\", \"db_tourismo2\")\n",
    "username = os.getenv(\"SQL_USERNAME\")\n",
    "password = os.getenv(\"SQL_PASSWORD\")\n",
    "encoded_password = urllib.parse.quote_plus(password)\n",
    "\n",
    "# Codificar la contraseña para la URL\n",
    "encoded_password = urllib.parse.quote_plus(password)\n",
    "\n",
    "# URL de conexión para SQLAlchemy con formato específico para Azure SQL\n",
    "DB_URL = f\"mssql+pyodbc://{username}:{encoded_password}@{server}/{database}?driver=ODBC+Driver+18+for+SQL+Server&Encrypt=yes&TrustServerCertificate=no&Connection Timeout=30\"\n",
    "# Crear la conexión\n",
    "engine = create_engine(DB_URL, echo=True)\n",
    "\n",
    "# Crear sesión\n",
    "SessionLocal = sessionmaker(autocommit=False, autoflush=False, bind=engine)\n",
    "db = SessionLocal()\n",
    "\n",
    "# Verificar si la tabla \"users\" existe\n",
    "result = db.execute(text(\"SELECT TABLE_NAME FROM INFORMATION_SCHEMA.TABLES WHERE TABLE_NAME = 'Users'\"))\n",
    "table_exists = result.fetchone()\n",
    "\n",
    "if table_exists:\n",
    "    print(\"✅ La tabla 'users' existe en la BD.\")\n",
    "else:\n",
    "    print(\"❌ La tabla 'users' NO existe en la BD.\")\n",
    "\n",
    "# Cerrar sesión\n",
    "db.close()\n"
   ]
  },
  {
   "cell_type": "code",
   "execution_count": 2,
   "metadata": {},
   "outputs": [
    {
     "name": "stdout",
     "output_type": "stream",
     "text": [
      "Conexión exitosa. Base de datos: master\n"
     ]
    }
   ],
   "source": [
    "import os\n",
    "import pyodbc\n",
    "\n",
    "# Configuración de conexión\n",
    "server = os.getenv(\"SQL_SERVER\")\n",
    "database = os.getenv(\"SQL_DATABASE\", \"db_tourismo2\")\n",
    "username = os.getenv(\"SQL_USERNAME\")\n",
    "password = os.getenv(\"SQL_PASSWORD\")\n",
    "encoded_password = urllib.parse.quote_plus(password)\n",
    "# Cadena de conexión\n",
    "conn_str = f\"DRIVER={{ODBC Driver 17 for SQL Server}};SERVER={server};DATABASE={database};UID={username};PWD={password}\"\n",
    "\n",
    "try:\n",
    "    # Conectar a la base de datos\n",
    "    conn = pyodbc.connect(conn_str)\n",
    "    cursor = conn.cursor()\n",
    "    \n",
    "    # Ejecutar una consulta de prueba\n",
    "    cursor.execute(\"SELECT TOP 1 name FROM sys.databases\")\n",
    "    row = cursor.fetchone()\n",
    "    print(\"Conexión exitosa. Base de datos:\", row[0] if row else \"No se encontraron resultados\")\n",
    "\n",
    "    # Cerrar la conexión\n",
    "    cursor.close()\n",
    "    conn.close()\n",
    "except Exception as e:\n",
    "    print(\"Error en la conexión:\", e)\n"
   ]
  }
 ],
 "metadata": {
  "kernelspec": {
   "display_name": ".venv",
   "language": "python",
   "name": "python3"
  },
  "language_info": {
   "codemirror_mode": {
    "name": "ipython",
    "version": 3
   },
   "file_extension": ".py",
   "mimetype": "text/x-python",
   "name": "python",
   "nbconvert_exporter": "python",
   "pygments_lexer": "ipython3",
   "version": "3.11.9"
  }
 },
 "nbformat": 4,
 "nbformat_minor": 2
}
